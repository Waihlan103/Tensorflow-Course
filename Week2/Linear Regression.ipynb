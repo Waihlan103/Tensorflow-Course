{
 "cells": [
  {
   "cell_type": "code",
   "execution_count": 1,
   "metadata": {},
   "outputs": [],
   "source": [
    "import tensorflow as tf\n",
    "import numpy as np\n",
    "from matplotlib import pyplot as plt"
   ]
  },
  {
   "cell_type": "code",
   "execution_count": 3,
   "metadata": {},
   "outputs": [],
   "source": [
    "true_w, true_b = 7.0, 4.0\n",
    "\n",
    "def create_data(batch_size = 64):\n",
    "    x = np.random.randn(batch_size, 1)\n",
    "    y = np.random.randn(batch_size, 1) + true_w*x + true_b\n",
    "    return x, y\n",
    "#print(np.random.randn(64, 1))"
   ]
  },
  {
   "cell_type": "code",
   "execution_count": 4,
   "metadata": {},
   "outputs": [
    {
     "data": {
      "text/plain": [
       "[<matplotlib.lines.Line2D at 0x7f984f753c90>]"
      ]
     },
     "execution_count": 4,
     "metadata": {},
     "output_type": "execute_result"
    },
    {
     "data": {
      "image/png": "[encoded data removed]",
      "text/plain": [
       "<Figure size 432x288 with 1 Axes>"
      ]
     },
     "metadata": {
      "needs_background": "light"
     },
     "output_type": "display_data"
    }
   ],
   "source": [
    "x, y = create_data()\n",
    "plt.plot(x, y, '.')"
   ]
  },
  {
   "cell_type": "code",
   "execution_count": 12,
   "metadata": {},
   "outputs": [
    {
     "name": "stdout",
     "output_type": "stream",
     "text": [
      "Iteration 0, w = 9.856682777404785, b = 1.1514803171157837 :\n",
      "Iteration 10, w = 8.402484893798828, b = 2.506951332092285 :\n",
      "Iteration 20, w = 7.7539873123168945, b = 3.1903369426727295 :\n",
      "Iteration 30, w = 7.394220352172852, b = 3.540951728820801 :\n",
      "Iteration 40, w = 7.233916282653809, b = 3.7576043605804443 :\n",
      "Iteration 50, w = 7.123191833496094, b = 3.875004529953003 :\n",
      "Iteration 60, w = 7.064637660980225, b = 3.91249942779541 :\n",
      "Iteration 70, w = 7.010655879974365, b = 3.975299835205078 :\n",
      "Iteration 80, w = 7.019952297210693, b = 3.9721553325653076 :\n",
      "Iteration 90, w = 7.003676891326904, b = 4.0104193687438965 :\n"
     ]
    }
   ],
   "source": [
    "iterations = 100\n",
    "lr = 0.03\n",
    "\n",
    "w_history = []\n",
    "b_history = []\n",
    "\n",
    "w = tf.Variable(10.0)\n",
    "b = tf.Variable(1.0)\n",
    "for i in range(0, iterations):\n",
    "    x_batch, y_batch = create_data()\n",
    "    x_batch = tf.convert_to_tensor(x_batch, dtype = tf.float32)\n",
    "    y_batch = tf.convert_to_tensor(y_batch, dtype = tf.float32)\n",
    "    \n",
    "    with tf.GradientTape(persistent = True) as tape:\n",
    "        y = w*x_batch + b\n",
    "        loss = tf.reduce_mean(tf.square(y-y_batch))\n",
    "        \n",
    "    dw = tape.gradient(loss, w)\n",
    "    db = tape.gradient(loss, b)\n",
    "\n",
    "    del tape\n",
    "    w.assign_sub(lr * dw)\n",
    "    b.assign_sub(lr * db)\n",
    "\n",
    "    w_history.append(w.numpy())\n",
    "    b_history.append(b.numpy())\n",
    "    \n",
    "    if i % 10 == 0:\n",
    "        print('Iteration {}, w = {}, b = {} :'.format(i, w.numpy(), b.numpy()))"
   ]
  },
  {
   "cell_type": "code",
   "execution_count": 13,
   "metadata": {},
   "outputs": [
    {
     "data": {
      "image/png": "[encoded data removed]",
      "text/plain": [
       "<Figure size 432x288 with 1 Axes>"
      ]
     },
     "metadata": {
      "needs_background": "light"
     },
     "output_type": "display_data"
    }
   ],
   "source": [
    "    plt.plot(range(iterations), w_history, label = 'learned_w')\n",
    "    plt.plot(range(iterations), b_history, label = 'learned_b')\n",
    "    plt.plot(range(iterations), [true_w] * iterations, label = 'true_w')\n",
    "    plt.plot(range(iterations), [true_b] * iterations, label = 'true_b')\n",
    "    plt.legend()\n",
    "    plt.show()"
   ]
  },
  {
   "cell_type": "code",
   "execution_count": null,
   "metadata": {},
   "outputs": [],
   "source": []
  }
 ],
 "metadata": {
  "kernelspec": {
   "display_name": "Python 3",
   "language": "python",
   "name": "python3"
  },
  "language_info": {
   "codemirror_mode": {
    "name": "ipython",
    "version": 3
   },
   "file_extension": ".py",
   "mimetype": "text/x-python",
   "name": "python",
   "nbconvert_exporter": "python",
   "pygments_lexer": "ipython3",
   "version": "3.7.5"
  }
 },
 "nbformat": 4,
 "nbformat_minor": 4
}
