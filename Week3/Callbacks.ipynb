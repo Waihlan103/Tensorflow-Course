{
 "cells": [
  {
   "cell_type": "code",
   "execution_count": 1,
   "metadata": {},
   "outputs": [],
   "source": [
    "import tensorflow as tf\n",
    "from tensorflow.keras.layers import Dense\n",
    "import numpy as np"
   ]
  },
  {
   "cell_type": "code",
   "execution_count": 2,
   "metadata": {},
   "outputs": [],
   "source": [
    "x = np.array([1, 2, 3, 4, 5, 6, 7, 8, 9, 10], dtype = np.float)\n",
    "y = np.array([2, 3, 4, 5, 6, 7, 8, 9, 10, 11], dtype = np.float)"
   ]
  },
  {
   "cell_type": "code",
   "execution_count": 3,
   "metadata": {},
   "outputs": [],
   "source": [
    "def create_model():\n",
    "    model = tf.keras.models.Sequential([Dense(1, input_shape = (1,))])\n",
    "    #model.summary()\n",
    "    model.compile(optimizer = 'sgd', loss = 'mean_squared_error', metrics = ['mae'])\n",
    "    return model"
   ]
  },
  {
   "cell_type": "code",
   "execution_count": 7,
   "metadata": {},
   "outputs": [
    {
     "name": "stdout",
     "output_type": "stream",
     "text": [
      "Epoch 1/10\n",
      "1/1 - 0s - loss: 161.2692 - mae: 11.4634\n",
      "Epoch 2/10\n",
      "1/1 - 0s - loss: 7.5020 - mae: 2.5723\n",
      "Epoch 3/10\n",
      "1/1 - 0s - loss: 0.4461 - mae: 0.6674\n",
      "Epoch 4/10\n",
      "Loss 0.3 stop training\n",
      "1/1 - 0s - loss: 0.1215 - mae: 0.2854\n"
     ]
    },
    {
     "data": {
      "text/plain": [
       "<tensorflow.python.keras.callbacks.History at 0x7f4a40651250>"
      ]
     },
     "execution_count": 7,
     "metadata": {},
     "output_type": "execute_result"
    }
   ],
   "source": [
    "class Mycallback(tf.keras.callbacks.Callback):\n",
    "    def on_epoch_end(self, epoch, logs = {}):\n",
    "        #print('epoch.no = {}'.format(epoch))\n",
    "        if (logs['loss'] < 0.3):\n",
    "            print('Loss 0.3 stop training')\n",
    "            self.model.stop_training = True\n",
    "        \n",
    "cb = Mycallback()\n",
    "model = create_model()\n",
    "model.fit(x, y, epochs = 10, verbose = 2, callbacks = [cb])"
   ]
  },
  {
   "cell_type": "code",
   "execution_count": null,
   "metadata": {},
   "outputs": [],
   "source": []
  }
 ],
 "metadata": {
  "kernelspec": {
   "display_name": "Python 3",
   "language": "python",
   "name": "python3"
  },
  "language_info": {
   "codemirror_mode": {
    "name": "ipython",
    "version": 3
   },
   "file_extension": ".py",
   "mimetype": "text/x-python",
   "name": "python",
   "nbconvert_exporter": "python",
   "pygments_lexer": "ipython3",
   "version": "3.7.5"
  }
 },
 "nbformat": 4,
 "nbformat_minor": 4
}
