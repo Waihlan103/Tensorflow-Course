{
 "cells": [
  {
   "cell_type": "code",
   "execution_count": 4,
   "metadata": {},
   "outputs": [],
   "source": [
    "import tensorflow as tf\n",
    "from matplotlib import pyplot as plt\n",
    "import numpy as np\n",
    "from tensorflow.keras.layers import Dense, Flatten, Conv2D, MaxPooling2D"
   ]
  },
  {
   "cell_type": "code",
   "execution_count": 7,
   "metadata": {},
   "outputs": [
    {
     "name": "stdout",
     "output_type": "stream",
     "text": [
      "Model: \"sequential\"\n",
      "_________________________________________________________________\n",
      "Layer (type)                 Output Shape              Param #   \n",
      "=================================================================\n",
      "conv2d (Conv2D)              (None, 26, 26, 64)        640       \n",
      "_________________________________________________________________\n",
      "max_pooling2d (MaxPooling2D) (None, 13, 13, 64)        0         \n",
      "_________________________________________________________________\n",
      "conv2d_1 (Conv2D)            (None, 11, 11, 64)        36928     \n",
      "_________________________________________________________________\n",
      "max_pooling2d_1 (MaxPooling2 (None, 5, 5, 64)          0         \n",
      "_________________________________________________________________\n",
      "flatten (Flatten)            (None, 1600)              0         \n",
      "_________________________________________________________________\n",
      "dense (Dense)                (None, 128)               204928    \n",
      "_________________________________________________________________\n",
      "dense_1 (Dense)              (None, 10)                1290      \n",
      "=================================================================\n",
      "Total params: 243,786\n",
      "Trainable params: 243,786\n",
      "Non-trainable params: 0\n",
      "_________________________________________________________________\n"
     ]
    }
   ],
   "source": [
    "mnist_fashion = tf.keras.datasets.fashion_mnist\n",
    "(train_img, train_label), (test_img, test_label) = mnist_fashion.load_data()\n",
    "\n",
    "train_img = train_img.reshape(60000, 28, 28, 1)\n",
    "train_img = train_img / 255.0\n",
    "\n",
    "test_img = test_img.reshape(10000, 28, 28, 1)\n",
    "test_img = test_img / 255.0\n",
    "\n",
    "model = tf.keras.models.Sequential([\n",
    "                                        Conv2D(64, (3, 3), activation = 'relu', input_shape = (28, 28, 1)),\n",
    "                                        MaxPooling2D(2, 2),\n",
    "                                        Conv2D(64, (3, 3), activation = 'relu'),\n",
    "                                        MaxPooling2D(2, 2),\n",
    "    \n",
    "                                        Flatten(input_shape = (28, 28)),\n",
    "                                        Dense(128, activation = 'relu'),\n",
    "                                        Dense(10, activation = 'softmax')\n",
    "                                    ])\n",
    "\n",
    "model.summary()\n"
   ]
  },
  {
   "cell_type": "code",
   "execution_count": 8,
   "metadata": {},
   "outputs": [
    {
     "name": "stdout",
     "output_type": "stream",
     "text": [
      "Epoch 1/5\n",
      "1875/1875 [==============================] - 98s 52ms/step - loss: 0.4359 - accuracy: 0.8404\n",
      "Epoch 2/5\n",
      "1875/1875 [==============================] - 100s 54ms/step - loss: 0.2949 - accuracy: 0.8922\n",
      "Epoch 3/5\n",
      "1875/1875 [==============================] - 98s 52ms/step - loss: 0.2482 - accuracy: 0.9077\n",
      "Epoch 4/5\n",
      "1875/1875 [==============================] - 106s 56ms/step - loss: 0.2164 - accuracy: 0.9195\n",
      "Epoch 5/5\n",
      "1875/1875 [==============================] - 100s 53ms/step - loss: 0.1903 - accuracy: 0.9287\n",
      "313/313 [==============================] - 5s 16ms/step - loss: 0.2667 - accuracy: 0.9047\n"
     ]
    }
   ],
   "source": [
    "model.compile(optimizer = 'adam', loss = 'sparse_categorical_crossentropy', metrics = ['accuracy'])\n",
    "model.fit(train_img, train_label, epochs = 5)\n",
    "test_loss = model.evaluate(test_img,test_label)"
   ]
  },
  {
   "cell_type": "code",
   "execution_count": null,
   "metadata": {},
   "outputs": [],
   "source": []
  }
 ],
 "metadata": {
  "kernelspec": {
   "display_name": "Python 3",
   "language": "python",
   "name": "python3"
  },
  "language_info": {
   "codemirror_mode": {
    "name": "ipython",
    "version": 3
   },
   "file_extension": ".py",
   "mimetype": "text/x-python",
   "name": "python",
   "nbconvert_exporter": "python",
   "pygments_lexer": "ipython3",
   "version": "3.7.5"
  }
 },
 "nbformat": 4,
 "nbformat_minor": 4
}
