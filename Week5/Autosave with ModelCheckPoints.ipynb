{
 "cells": [
  {
   "cell_type": "code",
   "execution_count": 2,
   "metadata": {},
   "outputs": [],
   "source": [
    "import tensorflow as tf\n",
    "import numpy as np\n",
    "from tensorflow.keras.layers import Dense, Flatten, Conv2D, MaxPooling2D\n",
    "from tensorflow.keras.models import Sequential\n",
    "from matplotlib import pyplot as plt"
   ]
  },
  {
   "cell_type": "code",
   "execution_count": 3,
   "metadata": {},
   "outputs": [],
   "source": [
    "(x_train, y_train), (x_test, y_test) = tf.keras.datasets.cifar10.load_data()\n",
    "\n",
    "x_train = x_train / 255.\n",
    "x_test = x_test / 255.\n",
    "\n",
    "x_train = x_train[:10000]\n",
    "y_train = y_train[:10000]\n",
    "x_test = x_test[:1000]\n",
    "y_test = y_test[:1000]"
   ]
  },
  {
   "cell_type": "code",
   "execution_count": 4,
   "metadata": {},
   "outputs": [],
   "source": [
    "def evaluate(model, x_test, y_test):\n",
    "    test_loss, test_accuracy = model.evaluate(x = x_test, y = y_test, verbose = 0)\n",
    "    print('accuracy = {acc:0.2f}%, Loss = {loss:0.2f}'.format(acc = test_accuracy * 100, loss = test_loss))\n",
    "    \n",
    "def get_new_model():\n",
    "    model = Sequential([\n",
    "        Conv2D(16, (3, 3), activation = 'relu', input_shape = (32, 32, 3), name = 'conv_1'),\n",
    "        MaxPooling2D((2, 2), name = 'pool_1'),\n",
    "        \n",
    "        Conv2D(8, (3, 3), activation = 'relu', name = 'conv_2'),\n",
    "        MaxPooling2D((2, 2), name = 'pool_2'),\n",
    "        \n",
    "        Flatten(name = 'Flatten'),\n",
    "        Dense(32, activation = 'relu', name = 'Dense_1'),\n",
    "        Dense(10, activation = 'softmax', name = 'Dense_2')\n",
    "    ])\n",
    "    \n",
    "    model.compile(optimizer = 'adam', loss = 'sparse_categorical_crossentropy', metrics = ['accuracy'])\n",
    "    \n",
    "    return model"
   ]
  },
  {
   "cell_type": "code",
   "execution_count": 5,
   "metadata": {},
   "outputs": [],
   "source": [
    "from tensorflow.keras.callbacks import ModelCheckpoint\n",
    "\n"
   ]
  },
  {
   "cell_type": "code",
   "execution_count": 7,
   "metadata": {},
   "outputs": [],
   "source": [
    "checkpoint_path = 'Model_checkpoint/checkpoint'\n",
    "\n",
    "checkpoint = ModelCheckpoint(filepath = checkpoint_path,\n",
    "                            frequency = 'epoch',\n",
    "                            save_weights_only = True,\n",
    "                            verbose = 1)"
   ]
  },
  {
   "cell_type": "code",
   "execution_count": 8,
   "metadata": {},
   "outputs": [
    {
     "name": "stdout",
     "output_type": "stream",
     "text": [
      "Epoch 1/3\n",
      "311/313 [============================>.] - ETA: 0s - loss: 1.9849 - accuracy: 0.2621\n",
      "Epoch 00001: saving model to Model_checkpoint/checkpoint\n",
      "313/313 [==============================] - 7s 24ms/step - loss: 1.9844 - accuracy: 0.2623\n",
      "Epoch 2/3\n",
      "312/313 [============================>.] - ETA: 0s - loss: 1.6954 - accuracy: 0.3832\n",
      "Epoch 00002: saving model to Model_checkpoint/checkpoint\n",
      "313/313 [==============================] - 6s 19ms/step - loss: 1.6951 - accuracy: 0.3833\n",
      "Epoch 3/3\n",
      "313/313 [==============================] - ETA: 0s - loss: 1.5739 - accuracy: 0.4307\n",
      "Epoch 00003: saving model to Model_checkpoint/checkpoint\n",
      "313/313 [==============================] - 5s 16ms/step - loss: 1.5739 - accuracy: 0.4307\n"
     ]
    },
    {
     "data": {
      "text/plain": [
       "<tensorflow.python.keras.callbacks.History at 0x7f7d84ae5fd0>"
      ]
     },
     "execution_count": 8,
     "metadata": {},
     "output_type": "execute_result"
    }
   ],
   "source": [
    "model = get_new_model()\n",
    "\n",
    "model.fit(x_train, y_train, epochs = 3, callbacks = [checkpoint])"
   ]
  },
  {
   "cell_type": "code",
   "execution_count": 9,
   "metadata": {},
   "outputs": [
    {
     "name": "stdout",
     "output_type": "stream",
     "text": [
      "Epoch 1/3\n",
      "310/313 [============================>.] - ETA: 0s - loss: 2.0361 - accuracy: 0.2600\n",
      "Epoch 00001: saving model to Model_checkpoint/checkpoint_01\n",
      "313/313 [==============================] - 5s 17ms/step - loss: 2.0342 - accuracy: 0.2606\n",
      "Epoch 2/3\n",
      "311/313 [============================>.] - ETA: 0s - loss: 1.7327 - accuracy: 0.3747\n",
      "Epoch 00002: saving model to Model_checkpoint/checkpoint_02\n",
      "313/313 [==============================] - 6s 18ms/step - loss: 1.7313 - accuracy: 0.3755\n",
      "Epoch 3/3\n",
      "313/313 [==============================] - ETA: 0s - loss: 1.6313 - accuracy: 0.4077\n",
      "Epoch 00003: saving model to Model_checkpoint/checkpoint_03\n",
      "313/313 [==============================] - 7s 22ms/step - loss: 1.6313 - accuracy: 0.4077\n"
     ]
    },
    {
     "data": {
      "text/plain": [
       "<tensorflow.python.keras.callbacks.History at 0x7f7d9da64690>"
      ]
     },
     "execution_count": 9,
     "metadata": {},
     "output_type": "execute_result"
    }
   ],
   "source": [
    "checkpoint_path = 'Model_checkpoint/checkpoint_{epoch:02d}'\n",
    "\n",
    "epoch_checkpoint = ModelCheckpoint(filepath = checkpoint_path,\n",
    "                            frequency = 'epoch',\n",
    "                            save_weights_only = True,\n",
    "                            verbose = 1)\n",
    "\n",
    "model = get_new_model()\n",
    "\n",
    "model.fit(x_train, y_train, epochs = 3, callbacks = [epoch_checkpoint])"
   ]
  },
  {
   "cell_type": "code",
   "execution_count": 11,
   "metadata": {},
   "outputs": [
    {
     "name": "stdout",
     "output_type": "stream",
     "text": [
      "Epoch 1/3\n",
      "310/313 [============================>.] - ETA: 0s - loss: 1.9987 - accuracy: 0.2634\n",
      "Epoch 00001: val_accuracy improved from -inf to 0.36500, saving model to Model_checkpoint/best_checkpoint\n",
      "313/313 [==============================] - 7s 24ms/step - loss: 1.9966 - accuracy: 0.2645 - val_loss: 1.8193 - val_accuracy: 0.3650\n",
      "Epoch 2/3\n",
      "313/313 [==============================] - ETA: 0s - loss: 1.6907 - accuracy: 0.3847\n",
      "Epoch 00002: val_accuracy improved from 0.36500 to 0.41500, saving model to Model_checkpoint/best_checkpoint\n",
      "313/313 [==============================] - 7s 21ms/step - loss: 1.6907 - accuracy: 0.3847 - val_loss: 1.6298 - val_accuracy: 0.4150\n",
      "Epoch 3/3\n",
      "311/313 [============================>.] - ETA: 0s - loss: 1.5934 - accuracy: 0.4258\n",
      "Epoch 00003: val_accuracy improved from 0.41500 to 0.43100, saving model to Model_checkpoint/best_checkpoint\n",
      "313/313 [==============================] - 6s 21ms/step - loss: 1.5929 - accuracy: 0.4254 - val_loss: 1.5787 - val_accuracy: 0.4310\n"
     ]
    },
    {
     "data": {
      "text/plain": [
       "<tensorflow.python.keras.callbacks.History at 0x7f7d193de290>"
      ]
     },
     "execution_count": 11,
     "metadata": {},
     "output_type": "execute_result"
    }
   ],
   "source": [
    "checkpoint_path = 'Model_checkpoint/best_checkpoint'\n",
    "\n",
    "best_checkpoint = ModelCheckpoint(filepath = checkpoint_path,\n",
    "                            frequency = 'epoch',\n",
    "                            save_weights_only = True,\n",
    "                            save_best_only = True,\n",
    "                            monitor = 'val_accuracy',\n",
    "                            verbose = 1)\n",
    "\n",
    "model = get_new_model()\n",
    "\n",
    "model.fit(x_train, y_train, epochs = 3, callbacks = [best_checkpoint], validation_data = (x_test, y_test))"
   ]
  },
  {
   "cell_type": "code",
   "execution_count": 12,
   "metadata": {},
   "outputs": [
    {
     "name": "stdout",
     "output_type": "stream",
     "text": [
      "Epoch 1/3\n",
      "312/313 [============================>.] - ETA: 0s - loss: 1.9961 - accuracy: 0.2604\n",
      "Epoch 00001: val_accuracy improved from -inf to 0.36900, saving model to best_checkpoint/best_checkpoint_model\n",
      "WARNING:tensorflow:From /home/waihlan/.local/lib/python3.7/site-packages/tensorflow/python/training/tracking/tracking.py:111: Model.state_updates (from tensorflow.python.keras.engine.training) is deprecated and will be removed in a future version.\n",
      "Instructions for updating:\n",
      "This property should not be used in TensorFlow 2.0, as updates are applied automatically.\n",
      "WARNING:tensorflow:From /home/waihlan/.local/lib/python3.7/site-packages/tensorflow/python/training/tracking/tracking.py:111: Layer.updates (from tensorflow.python.keras.engine.base_layer) is deprecated and will be removed in a future version.\n",
      "Instructions for updating:\n",
      "This property should not be used in TensorFlow 2.0, as updates are applied automatically.\n",
      "INFO:tensorflow:Assets written to: best_checkpoint/best_checkpoint_model/assets\n",
      "313/313 [==============================] - 8s 26ms/step - loss: 1.9958 - accuracy: 0.2606 - val_loss: 1.7672 - val_accuracy: 0.3690\n",
      "Epoch 2/3\n",
      "311/313 [============================>.] - ETA: 0s - loss: 1.6693 - accuracy: 0.3988\n",
      "Epoch 00002: val_accuracy did not improve from 0.36900\n",
      "313/313 [==============================] - 5s 17ms/step - loss: 1.6687 - accuracy: 0.3991 - val_loss: 1.7700 - val_accuracy: 0.3620\n",
      "Epoch 3/3\n",
      "310/313 [============================>.] - ETA: 0s - loss: 1.5527 - accuracy: 0.4412\n",
      "Epoch 00003: val_accuracy improved from 0.36900 to 0.43500, saving model to best_checkpoint/best_checkpoint_model\n",
      "INFO:tensorflow:Assets written to: best_checkpoint/best_checkpoint_model/assets\n",
      "313/313 [==============================] - 8s 25ms/step - loss: 1.5525 - accuracy: 0.4410 - val_loss: 1.5614 - val_accuracy: 0.4350\n"
     ]
    },
    {
     "data": {
      "text/plain": [
       "<tensorflow.python.keras.callbacks.History at 0x7f7d182160d0>"
      ]
     },
     "execution_count": 12,
     "metadata": {},
     "output_type": "execute_result"
    }
   ],
   "source": [
    "checkpoint_path = 'best_checkpoint/best_checkpoint_model'\n",
    "\n",
    "\n",
    "model_best_checkpoint = ModelCheckpoint(filepath = checkpoint_path,\n",
    "                            frequency = 'epoch',\n",
    "                            save_weights_only = False,\n",
    "                            save_best_only = True,\n",
    "                            monitor = 'val_accuracy',\n",
    "                            verbose = 1)\n",
    "\n",
    "model = get_new_model()\n",
    "\n",
    "model.fit(x_train, y_train, epochs = 3, callbacks = [model_best_checkpoint], validation_data = (x_test, y_test))"
   ]
  },
  {
   "cell_type": "code",
   "execution_count": 14,
   "metadata": {},
   "outputs": [
    {
     "name": "stdout",
     "output_type": "stream",
     "text": [
      "accuracy = 9.00%, Loss = 1.56\n",
      "accuracy = 10.10%, Loss = 2.31\n"
     ]
    }
   ],
   "source": [
    "from tensorflow.keras.models import load_model\n",
    "\n",
    "trained_model = load_model('best_checkpoint/best_checkpoint_model')\n",
    "new_model = get_new_model()\n",
    "\n",
    "evaluate(trained_model, x_test, y_test)\n",
    "evaluate(new_model, x_test, y_test)"
   ]
  },
  {
   "cell_type": "code",
   "execution_count": null,
   "metadata": {},
   "outputs": [],
   "source": []
  }
 ],
 "metadata": {
  "kernelspec": {
   "display_name": "Python 3",
   "language": "python",
   "name": "python3"
  },
  "language_info": {
   "codemirror_mode": {
    "name": "ipython",
    "version": 3
   },
   "file_extension": ".py",
   "mimetype": "text/x-python",
   "name": "python",
   "nbconvert_exporter": "python",
   "pygments_lexer": "ipython3",
   "version": "3.7.5"
  }
 },
 "nbformat": 4,
 "nbformat_minor": 4
}
