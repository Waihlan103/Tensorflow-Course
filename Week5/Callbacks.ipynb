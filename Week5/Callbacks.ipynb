{
 "cells": [
  {
   "cell_type": "code",
   "execution_count": 1,
   "metadata": {},
   "outputs": [],
   "source": [
    "import tensorflow as tf\n",
    "from tensorflow.keras.models import Sequential\n",
    "from tensorflow.keras.layers import Dense, Flatten\n",
    "import numpy as np\n",
    "from matplotlib import pyplot as plt"
   ]
  },
  {
   "cell_type": "code",
   "execution_count": null,
   "metadata": {},
   "outputs": [],
   "source": []
  },
  {
   "cell_type": "code",
   "execution_count": 5,
   "metadata": {},
   "outputs": [
    {
     "name": "stdout",
     "output_type": "stream",
     "text": [
      "(397, 10)\n",
      "(45, 10)\n",
      "(397,)\n",
      "(45,)\n"
     ]
    }
   ],
   "source": [
    "from sklearn.datasets import load_diabetes\n",
    "\n",
    "diabetes_datasets = load_diabetes()\n",
    "#print(diabetes_datasets)\n",
    "\n",
    "data = diabetes_datasets['data']\n",
    "target = diabetes_datasets['target']\n",
    "\n",
    "#print(data.shape)\n",
    "#print(target.shape)\n",
    "target = (target - target.mean(axis = 0)) / target.std()\n",
    "\n",
    "from sklearn.model_selection import train_test_split\n",
    "x_train, x_test, y_train, y_test = train_test_split(data, target, test_size = 0.1)\n",
    "\n",
    "print(x_train.shape)\n",
    "print(x_test.shape)\n",
    "print(y_train.shape)\n",
    "print(y_test.shape)"
   ]
  },
  {
   "cell_type": "code",
   "execution_count": 6,
   "metadata": {},
   "outputs": [],
   "source": [
    "def evaluate(model, x_test, y_test):\n",
    "    test_loss, test_acc = model.evaluate(x = x_test, y = y_test, verbose = 0)\n",
    "    print('accuracy = {acc:0.2f}%, loss = {loss: 0.2f}'.format(acc = test_acc * 100, loss = test_loss))\n",
    "    \n",
    "def get_new_model():\n",
    "    model = Sequential([\n",
    "        Dense(128, activation = 'relu', input_shape = (x_train.shape[1],)),\n",
    "        Dense(128, activation = 'relu'),\n",
    "        Dense(128, activation = 'relu'),\n",
    "        Dense(128, activation = 'relu'),\n",
    "        Dense(128, activation = 'relu'),\n",
    "        Dense(1)\n",
    "    ])\n",
    "    \n",
    "    model.compile(optimizer = 'adam', loss = 'mse', metrics = ['mae'])\n",
    "    return model"
   ]
  },
  {
   "cell_type": "code",
   "execution_count": 14,
   "metadata": {},
   "outputs": [],
   "source": [
    "from tensorflow.keras.callbacks import Callback\n",
    "\n",
    "class TrainingCallback(Callback):\n",
    "    def on_train_begin(self, logs = None):\n",
    "        print('Starting Training ...')\n",
    "        \n",
    "    def on_epoch_begin(self, epoch, logs = None):\n",
    "        print('Starting Epoch ...', epoch)\n",
    "        \n",
    "    def on_epoch_end(self, epoch, logs = None):\n",
    "        print('Finished Epoch ...', epoch)\n",
    "        \n",
    "    def on_train_batch_begin(self, batch, logs = None):\n",
    "        print('Starting batch ...', batch)\n",
    "        \n",
    "    def on_train_batch_end(self, batch, logs = None):\n",
    "        print('Finished batch ...', batch)\n",
    "        \n",
    "    def on_train_end(self, logs = None):\n",
    "        print('Fininshed Training ...')\n",
    "        \n",
    "class TestingCallback(Callback):\n",
    "    def on_test_begin(self, logs = None):\n",
    "        print('Starting Testing ...')\n",
    "        \n",
    "    def on_test_batch_begin(self, batch, logs = None):\n",
    "        print('Starting Batch ...', batch)\n",
    "        \n",
    "    def on_test_batch_end(self, batch, logs = None):\n",
    "        print('Finished Batch ...', batch)\n",
    "        \n",
    "    def on_test_end(self, logs = None):\n",
    "        print('Finished testing ...')\n",
    "        \n",
    "class PredictingCallback(Callback):\n",
    "    def on_predict_begin(self, logs = None):\n",
    "        print('starting Predicting ...')\n",
    "        \n",
    "    def on_predict_batch_begin(self, batch, logs = None):\n",
    "        print('Starting batch ...', batch)\n",
    "        \n",
    "    def on_predict_batch_end(self, batch, logs = None):\n",
    "        print('Finished batch ...', batch)\n",
    "        \n",
    "    def on_predict_end(self, logs = None):\n",
    "        print('Fininshed batch ...')"
   ]
  },
  {
   "cell_type": "code",
   "execution_count": 15,
   "metadata": {},
   "outputs": [
    {
     "name": "stdout",
     "output_type": "stream",
     "text": [
      "Starting Testing ...\n",
      "Starting Batch ... 0\n",
      "Finished Batch ... 0\n",
      "Starting Batch ... 1\n",
      "Finished Batch ... 1\n",
      "Finished testing ...\n",
      "Starting Testing ...\n",
      "Starting Batch ... 0\n",
      "Finished Batch ... 0\n",
      "Starting Batch ... 1\n",
      "Finished Batch ... 1\n",
      "Finished testing ...\n",
      "Starting Testing ...\n",
      "Starting Batch ... 0\n",
      "Finished Batch ... 0\n",
      "Starting Batch ... 1\n",
      "Finished Batch ... 1\n",
      "Finished testing ...\n"
     ]
    },
    {
     "data": {
      "text/plain": [
       "<tensorflow.python.keras.callbacks.History at 0x7fdd18707590>"
      ]
     },
     "execution_count": 15,
     "metadata": {},
     "output_type": "execute_result"
    }
   ],
   "source": [
    "#traincb = TrainingCallback()\n",
    "testcb = TestingCallback()\n",
    "model = get_new_model()\n",
    "model.fit(x_train , y_train, validation_data = (x_test, y_test) , epochs = 3, verbose = 0, callbacks = [testcb])"
   ]
  },
  {
   "cell_type": "code",
   "execution_count": null,
   "metadata": {},
   "outputs": [],
   "source": []
  }
 ],
 "metadata": {
  "kernelspec": {
   "display_name": "Python 3",
   "language": "python",
   "name": "python3"
  },
  "language_info": {
   "codemirror_mode": {
    "name": "ipython",
    "version": 3
   },
   "file_extension": ".py",
   "mimetype": "text/x-python",
   "name": "python",
   "nbconvert_exporter": "python",
   "pygments_lexer": "ipython3",
   "version": "3.7.5"
  }
 },
 "nbformat": 4,
 "nbformat_minor": 4
}
