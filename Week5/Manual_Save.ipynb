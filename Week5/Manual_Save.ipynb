{
 "cells": [
  {
   "cell_type": "code",
   "execution_count": 23,
   "metadata": {},
   "outputs": [],
   "source": [
    "import tensorflow as tf\n",
    "import numpy as np\n",
    "from tensorflow.keras.layers import Dense, Flatten, Conv2D, MaxPooling2D\n",
    "from tensorflow.keras.models import Sequential\n",
    "from matplotlib import pyplot as plt"
   ]
  },
  {
   "cell_type": "code",
   "execution_count": 24,
   "metadata": {},
   "outputs": [],
   "source": [
    "(x_train, y_train), (x_test, y_test) = tf.keras.datasets.cifar10.load_data()"
   ]
  },
  {
   "cell_type": "code",
   "execution_count": 25,
   "metadata": {},
   "outputs": [],
   "source": [
    "x_train = x_train / 255.\n",
    "x_test = x_test / 255."
   ]
  },
  {
   "cell_type": "code",
   "execution_count": 26,
   "metadata": {},
   "outputs": [],
   "source": [
    "x_train = x_train[:10000]\n",
    "y_train = y_train[:10000]\n",
    "x_test = x_test[:1000]\n",
    "y_test = y_test[:1000]"
   ]
  },
  {
   "cell_type": "code",
   "execution_count": 27,
   "metadata": {},
   "outputs": [],
   "source": [
    "def evaluate(model, x_test, y_test):\n",
    "    test_loss, test_accuracy = model.evaluate(x = x_test, y = y_test, verbose = 0)\n",
    "    print('accuracy = {acc:0.2f}%, Loss = {loss:0.2f}'.format(acc = test_accuracy * 100, loss = test_loss))\n",
    "    \n",
    "def get_new_model():\n",
    "    model = Sequential([\n",
    "        Conv2D(16, (3, 3), activation = 'relu', input_shape = (32, 32, 3), name = 'conv_1'),\n",
    "        MaxPooling2D((2, 2), name = 'pool_1'),\n",
    "        \n",
    "        Conv2D(8, (3, 3), activation = 'relu', name = 'conv_2'),\n",
    "        MaxPooling2D((2, 2), name = 'pool_2'),\n",
    "        \n",
    "        Flatten(name = 'Flatten'),\n",
    "        Dense(32, activation = 'relu', name = 'Dense_1'),\n",
    "        Dense(10, activation = 'softmax', name = 'Dense_2')\n",
    "    ])\n",
    "    \n",
    "    model.compile(optimizer = 'adam', loss = 'sparse_categorical_crossentropy', metrics = ['accuracy'])\n",
    "    \n",
    "    return model"
   ]
  },
  {
   "cell_type": "code",
   "execution_count": 28,
   "metadata": {},
   "outputs": [
    {
     "name": "stdout",
     "output_type": "stream",
     "text": [
      "Model: \"sequential_2\"\n",
      "_________________________________________________________________\n",
      "Layer (type)                 Output Shape              Param #   \n",
      "=================================================================\n",
      "conv_1 (Conv2D)              (None, 30, 30, 16)        448       \n",
      "_________________________________________________________________\n",
      "pool_1 (MaxPooling2D)        (None, 15, 15, 16)        0         \n",
      "_________________________________________________________________\n",
      "conv_2 (Conv2D)              (None, 13, 13, 8)         1160      \n",
      "_________________________________________________________________\n",
      "pool_2 (MaxPooling2D)        (None, 6, 6, 8)           0         \n",
      "_________________________________________________________________\n",
      "Flatten (Flatten)            (None, 288)               0         \n",
      "_________________________________________________________________\n",
      "Dense_1 (Dense)              (None, 32)                9248      \n",
      "_________________________________________________________________\n",
      "Dense_2 (Dense)              (None, 10)                330       \n",
      "=================================================================\n",
      "Total params: 11,186\n",
      "Trainable params: 11,186\n",
      "Non-trainable params: 0\n",
      "_________________________________________________________________\n"
     ]
    }
   ],
   "source": [
    "model = get_new_model()\n",
    "\n",
    "model.summary()"
   ]
  },
  {
   "cell_type": "code",
   "execution_count": 29,
   "metadata": {},
   "outputs": [
    {
     "name": "stdout",
     "output_type": "stream",
     "text": [
      "accuracy = 10.60%, Loss = 2.32\n"
     ]
    }
   ],
   "source": [
    "evaluate(model, x_test, y_test)"
   ]
  },
  {
   "cell_type": "code",
   "execution_count": 30,
   "metadata": {},
   "outputs": [
    {
     "name": "stdout",
     "output_type": "stream",
     "text": [
      "Epoch 1/10\n",
      "313/313 [==============================] - 6s 20ms/step - loss: 2.0720 - accuracy: 0.2359\n",
      "Epoch 2/10\n",
      "313/313 [==============================] - 6s 19ms/step - loss: 1.7352 - accuracy: 0.3709\n",
      "Epoch 3/10\n",
      "313/313 [==============================] - 6s 21ms/step - loss: 1.6362 - accuracy: 0.4042\n",
      "Epoch 4/10\n",
      "313/313 [==============================] - 7s 22ms/step - loss: 1.5475 - accuracy: 0.4349\n",
      "Epoch 5/10\n",
      "313/313 [==============================] - 7s 21ms/step - loss: 1.4691 - accuracy: 0.4634\n",
      "Epoch 6/10\n",
      "313/313 [==============================] - 7s 21ms/step - loss: 1.4190 - accuracy: 0.4832\n",
      "Epoch 7/10\n",
      "313/313 [==============================] - 7s 21ms/step - loss: 1.3623 - accuracy: 0.5079\n",
      "Epoch 8/10\n",
      "313/313 [==============================] - 6s 20ms/step - loss: 1.3203 - accuracy: 0.5230\n",
      "Epoch 9/10\n",
      "313/313 [==============================] - 6s 20ms/step - loss: 1.2805 - accuracy: 0.5355\n",
      "Epoch 10/10\n",
      "313/313 [==============================] - 6s 21ms/step - loss: 1.2511 - accuracy: 0.5547\n"
     ]
    }
   ],
   "source": [
    "history = model.fit(x_train, y_train, epochs = 10)"
   ]
  },
  {
   "cell_type": "code",
   "execution_count": 31,
   "metadata": {},
   "outputs": [
    {
     "name": "stdout",
     "output_type": "stream",
     "text": [
      "accuracy = 49.90%, Loss = 1.38\n",
      "INFO:tensorflow:Assets written to: saved_model/model/assets\n"
     ]
    }
   ],
   "source": [
    "#Saving Entire Model\n",
    "\n",
    "evaluate(model, x_test, y_test)\n",
    "\n",
    "model_filepath = 'saved_model/model'\n",
    "model.save(model_filepath)"
   ]
  },
  {
   "cell_type": "code",
   "execution_count": 32,
   "metadata": {},
   "outputs": [
    {
     "name": "stdout",
     "output_type": "stream",
     "text": [
      "accuracy = 8.70%, Loss = 1.38\n",
      "accuracy = 8.80%, Loss = 2.31\n"
     ]
    }
   ],
   "source": [
    "from tensorflow.keras.models import load_model\n",
    "\n",
    "train_model = load_model(model_filepath)\n",
    "new_model = get_new_model()\n",
    "\n",
    "evaluate(train_model, x_test, y_test)\n",
    "evaluate(new_model, x_test, y_test)"
   ]
  },
  {
   "cell_type": "code",
   "execution_count": 34,
   "metadata": {},
   "outputs": [],
   "source": [
    "#saved_weights\n",
    "\n",
    "weights_filepath = 'saved_weights/model_weights'\n",
    "\n",
    "model.save_weights(weights_filepath)\n",
    "\n",
    "weights_model = get_new_model()"
   ]
  },
  {
   "cell_type": "code",
   "execution_count": 35,
   "metadata": {},
   "outputs": [
    {
     "data": {
      "text/plain": [
       "<tensorflow.python.training.tracking.util.CheckpointLoadStatus at 0x7fddd0253850>"
      ]
     },
     "execution_count": 35,
     "metadata": {},
     "output_type": "execute_result"
    }
   ],
   "source": [
    "weights_model.load_weights(weights_filepath)"
   ]
  },
  {
   "cell_type": "code",
   "execution_count": 36,
   "metadata": {},
   "outputs": [
    {
     "name": "stdout",
     "output_type": "stream",
     "text": [
      "accuracy = 49.90%, Loss = 1.38\n"
     ]
    }
   ],
   "source": [
    "evaluate(weights_model, x_test, y_test)"
   ]
  },
  {
   "cell_type": "code",
   "execution_count": null,
   "metadata": {},
   "outputs": [],
   "source": []
  }
 ],
 "metadata": {
  "kernelspec": {
   "display_name": "Python 3",
   "language": "python",
   "name": "python3"
  },
  "language_info": {
   "codemirror_mode": {
    "name": "ipython",
    "version": 3
   },
   "file_extension": ".py",
   "mimetype": "text/x-python",
   "name": "python",
   "nbconvert_exporter": "python",
   "pygments_lexer": "ipython3",
   "version": "3.7.5"
  }
 },
 "nbformat": 4,
 "nbformat_minor": 4
}
